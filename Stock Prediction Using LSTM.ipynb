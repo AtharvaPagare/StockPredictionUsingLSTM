{
 "cells": [
  {
   "cell_type": "markdown",
   "metadata": {},
   "source": [
    "### Introduction\n",
    "\n",
    "In this project, I will be analyzing Tesla stocks from last 6 years and predicting future price for the stock using LSTM network.\n",
    "\n",
    "The dependencies required for the project are:\n",
    "1. Pandas.\n",
    "2. Numpy.\n",
    "3. Keras.\n",
    "4. Tensorflow.\n",
    "5. Matplotlib.\n",
    "6. Scikit Learn (Sklearn)"
   ]
  },
  {
   "cell_type": "markdown",
   "metadata": {},
   "source": [
    "The goal of the project is to build a model that predicts the stock values of Tesla based on a window of values from previous days."
   ]
  },
  {
   "cell_type": "markdown",
   "metadata": {},
   "source": [
    "### Data Extraction\n",
    "\n",
    "Let us first start with data extraction. The data is available in csv format at the link: \n",
    "https://www.nasdaq.com/symbol/tsla/historical.\n",
    "After data has been extracted, the data can be stored as a  dataframe by the paandas library."
   ]
  },
  {
   "cell_type": "code",
   "execution_count": 1,
   "metadata": {},
   "outputs": [
    {
     "data": {
      "text/html": [
       "<div>\n",
       "<style scoped>\n",
       "    .dataframe tbody tr th:only-of-type {\n",
       "        vertical-align: middle;\n",
       "    }\n",
       "\n",
       "    .dataframe tbody tr th {\n",
       "        vertical-align: top;\n",
       "    }\n",
       "\n",
       "    .dataframe thead th {\n",
       "        text-align: right;\n",
       "    }\n",
       "</style>\n",
       "<table border=\"1\" class=\"dataframe\">\n",
       "  <thead>\n",
       "    <tr style=\"text-align: right;\">\n",
       "      <th></th>\n",
       "      <th>close</th>\n",
       "      <th>volume</th>\n",
       "      <th>open</th>\n",
       "      <th>high</th>\n",
       "      <th>low</th>\n",
       "    </tr>\n",
       "    <tr>\n",
       "      <th>date</th>\n",
       "      <th></th>\n",
       "      <th></th>\n",
       "      <th></th>\n",
       "      <th></th>\n",
       "      <th></th>\n",
       "    </tr>\n",
       "  </thead>\n",
       "  <tbody>\n",
       "    <tr>\n",
       "      <th>NaT</th>\n",
       "      <td>NaN</td>\n",
       "      <td>NaN</td>\n",
       "      <td>NaN</td>\n",
       "      <td>NaN</td>\n",
       "      <td>NaN</td>\n",
       "    </tr>\n",
       "    <tr>\n",
       "      <th>2019-08-16</th>\n",
       "      <td>219.94</td>\n",
       "      <td>5207376.0</td>\n",
       "      <td>216.66</td>\n",
       "      <td>222.24</td>\n",
       "      <td>216.02</td>\n",
       "    </tr>\n",
       "    <tr>\n",
       "      <th>2019-08-15</th>\n",
       "      <td>215.64</td>\n",
       "      <td>8231952.0</td>\n",
       "      <td>220.86</td>\n",
       "      <td>221.56</td>\n",
       "      <td>211.55</td>\n",
       "    </tr>\n",
       "    <tr>\n",
       "      <th>2019-08-14</th>\n",
       "      <td>219.62</td>\n",
       "      <td>9562591.0</td>\n",
       "      <td>231.21</td>\n",
       "      <td>231.50</td>\n",
       "      <td>216.69</td>\n",
       "    </tr>\n",
       "    <tr>\n",
       "      <th>2019-08-13</th>\n",
       "      <td>235.00</td>\n",
       "      <td>4868998.0</td>\n",
       "      <td>228.81</td>\n",
       "      <td>236.00</td>\n",
       "      <td>227.55</td>\n",
       "    </tr>\n",
       "  </tbody>\n",
       "</table>\n",
       "</div>"
      ],
      "text/plain": [
       "             close     volume    open    high     low\n",
       "date                                                 \n",
       "NaT            NaN        NaN     NaN     NaN     NaN\n",
       "2019-08-16  219.94  5207376.0  216.66  222.24  216.02\n",
       "2019-08-15  215.64  8231952.0  220.86  221.56  211.55\n",
       "2019-08-14  219.62  9562591.0  231.21  231.50  216.69\n",
       "2019-08-13  235.00  4868998.0  228.81  236.00  227.55"
      ]
     },
     "execution_count": 1,
     "metadata": {},
     "output_type": "execute_result"
    }
   ],
   "source": [
    "import pandas as pd\n",
    "import numpy as np\n",
    "\n",
    "df = pd.read_csv('Downloads/TeslaSixYearData.csv', parse_dates = True, index_col = 0)\n",
    "df.head()"
   ]
  },
  {
   "cell_type": "markdown",
   "metadata": {},
   "source": [
    "Let us delete the first column as it does not contain any values."
   ]
  },
  {
   "cell_type": "code",
   "execution_count": 2,
   "metadata": {},
   "outputs": [
    {
     "data": {
      "text/html": [
       "<div>\n",
       "<style scoped>\n",
       "    .dataframe tbody tr th:only-of-type {\n",
       "        vertical-align: middle;\n",
       "    }\n",
       "\n",
       "    .dataframe tbody tr th {\n",
       "        vertical-align: top;\n",
       "    }\n",
       "\n",
       "    .dataframe thead th {\n",
       "        text-align: right;\n",
       "    }\n",
       "</style>\n",
       "<table border=\"1\" class=\"dataframe\">\n",
       "  <thead>\n",
       "    <tr style=\"text-align: right;\">\n",
       "      <th></th>\n",
       "      <th>close</th>\n",
       "      <th>volume</th>\n",
       "      <th>open</th>\n",
       "      <th>high</th>\n",
       "      <th>low</th>\n",
       "    </tr>\n",
       "    <tr>\n",
       "      <th>date</th>\n",
       "      <th></th>\n",
       "      <th></th>\n",
       "      <th></th>\n",
       "      <th></th>\n",
       "      <th></th>\n",
       "    </tr>\n",
       "  </thead>\n",
       "  <tbody>\n",
       "    <tr>\n",
       "      <th>2019-08-16</th>\n",
       "      <td>219.94</td>\n",
       "      <td>5207376.0</td>\n",
       "      <td>216.66</td>\n",
       "      <td>222.24</td>\n",
       "      <td>216.02</td>\n",
       "    </tr>\n",
       "    <tr>\n",
       "      <th>2019-08-15</th>\n",
       "      <td>215.64</td>\n",
       "      <td>8231952.0</td>\n",
       "      <td>220.86</td>\n",
       "      <td>221.56</td>\n",
       "      <td>211.55</td>\n",
       "    </tr>\n",
       "    <tr>\n",
       "      <th>2019-08-14</th>\n",
       "      <td>219.62</td>\n",
       "      <td>9562591.0</td>\n",
       "      <td>231.21</td>\n",
       "      <td>231.50</td>\n",
       "      <td>216.69</td>\n",
       "    </tr>\n",
       "    <tr>\n",
       "      <th>2019-08-13</th>\n",
       "      <td>235.00</td>\n",
       "      <td>4868998.0</td>\n",
       "      <td>228.81</td>\n",
       "      <td>236.00</td>\n",
       "      <td>227.55</td>\n",
       "    </tr>\n",
       "    <tr>\n",
       "      <th>2019-08-12</th>\n",
       "      <td>229.01</td>\n",
       "      <td>4663937.0</td>\n",
       "      <td>232.99</td>\n",
       "      <td>235.77</td>\n",
       "      <td>228.75</td>\n",
       "    </tr>\n",
       "  </tbody>\n",
       "</table>\n",
       "</div>"
      ],
      "text/plain": [
       "             close     volume    open    high     low\n",
       "date                                                 \n",
       "2019-08-16  219.94  5207376.0  216.66  222.24  216.02\n",
       "2019-08-15  215.64  8231952.0  220.86  221.56  211.55\n",
       "2019-08-14  219.62  9562591.0  231.21  231.50  216.69\n",
       "2019-08-13  235.00  4868998.0  228.81  236.00  227.55\n",
       "2019-08-12  229.01  4663937.0  232.99  235.77  228.75"
      ]
     },
     "execution_count": 2,
     "metadata": {},
     "output_type": "execute_result"
    }
   ],
   "source": [
    "df = df.iloc[1:]\n",
    "df.head()"
   ]
  },
  {
   "cell_type": "markdown",
   "metadata": {},
   "source": [
    "Let's see various statistical values of all the features except date."
   ]
  },
  {
   "cell_type": "code",
   "execution_count": 3,
   "metadata": {},
   "outputs": [
    {
     "data": {
      "text/html": [
       "<div>\n",
       "<style scoped>\n",
       "    .dataframe tbody tr th:only-of-type {\n",
       "        vertical-align: middle;\n",
       "    }\n",
       "\n",
       "    .dataframe tbody tr th {\n",
       "        vertical-align: top;\n",
       "    }\n",
       "\n",
       "    .dataframe thead th {\n",
       "        text-align: right;\n",
       "    }\n",
       "</style>\n",
       "<table border=\"1\" class=\"dataframe\">\n",
       "  <thead>\n",
       "    <tr style=\"text-align: right;\">\n",
       "      <th></th>\n",
       "      <th>close</th>\n",
       "      <th>volume</th>\n",
       "      <th>open</th>\n",
       "      <th>high</th>\n",
       "      <th>low</th>\n",
       "    </tr>\n",
       "  </thead>\n",
       "  <tbody>\n",
       "    <tr>\n",
       "      <th>count</th>\n",
       "      <td>1511.000000</td>\n",
       "      <td>1.511000e+03</td>\n",
       "      <td>1511.000000</td>\n",
       "      <td>1511.000000</td>\n",
       "      <td>1511.000000</td>\n",
       "    </tr>\n",
       "    <tr>\n",
       "      <th>mean</th>\n",
       "      <td>252.700330</td>\n",
       "      <td>6.811439e+06</td>\n",
       "      <td>252.707844</td>\n",
       "      <td>256.962515</td>\n",
       "      <td>248.176838</td>\n",
       "    </tr>\n",
       "    <tr>\n",
       "      <th>std</th>\n",
       "      <td>57.892947</td>\n",
       "      <td>4.271300e+06</td>\n",
       "      <td>57.932098</td>\n",
       "      <td>58.627883</td>\n",
       "      <td>57.066188</td>\n",
       "    </tr>\n",
       "    <tr>\n",
       "      <th>min</th>\n",
       "      <td>120.500000</td>\n",
       "      <td>7.102770e+05</td>\n",
       "      <td>119.380000</td>\n",
       "      <td>122.720000</td>\n",
       "      <td>116.100000</td>\n",
       "    </tr>\n",
       "    <tr>\n",
       "      <th>25%</th>\n",
       "      <td>208.975000</td>\n",
       "      <td>4.071516e+06</td>\n",
       "      <td>209.690000</td>\n",
       "      <td>213.474950</td>\n",
       "      <td>206.310000</td>\n",
       "    </tr>\n",
       "    <tr>\n",
       "      <th>50%</th>\n",
       "      <td>243.150000</td>\n",
       "      <td>5.712255e+06</td>\n",
       "      <td>243.580000</td>\n",
       "      <td>247.130000</td>\n",
       "      <td>238.750000</td>\n",
       "    </tr>\n",
       "    <tr>\n",
       "      <th>75%</th>\n",
       "      <td>301.490000</td>\n",
       "      <td>8.101074e+06</td>\n",
       "      <td>301.415000</td>\n",
       "      <td>306.870000</td>\n",
       "      <td>295.435000</td>\n",
       "    </tr>\n",
       "    <tr>\n",
       "      <th>max</th>\n",
       "      <td>385.000000</td>\n",
       "      <td>3.359729e+07</td>\n",
       "      <td>386.690000</td>\n",
       "      <td>389.610000</td>\n",
       "      <td>379.345000</td>\n",
       "    </tr>\n",
       "  </tbody>\n",
       "</table>\n",
       "</div>"
      ],
      "text/plain": [
       "             close        volume         open         high          low\n",
       "count  1511.000000  1.511000e+03  1511.000000  1511.000000  1511.000000\n",
       "mean    252.700330  6.811439e+06   252.707844   256.962515   248.176838\n",
       "std      57.892947  4.271300e+06    57.932098    58.627883    57.066188\n",
       "min     120.500000  7.102770e+05   119.380000   122.720000   116.100000\n",
       "25%     208.975000  4.071516e+06   209.690000   213.474950   206.310000\n",
       "50%     243.150000  5.712255e+06   243.580000   247.130000   238.750000\n",
       "75%     301.490000  8.101074e+06   301.415000   306.870000   295.435000\n",
       "max     385.000000  3.359729e+07   386.690000   389.610000   379.345000"
      ]
     },
     "execution_count": 3,
     "metadata": {},
     "output_type": "execute_result"
    }
   ],
   "source": [
    "df.describe()"
   ]
  },
  {
   "cell_type": "code",
   "execution_count": 4,
   "metadata": {},
   "outputs": [
    {
     "name": "stdout",
     "output_type": "stream",
     "text": [
      "<class 'pandas.core.frame.DataFrame'>\n",
      "DatetimeIndex: 1511 entries, 2019-08-16 to 2013-08-16\n",
      "Data columns (total 5 columns):\n",
      "close     1511 non-null float64\n",
      "volume    1511 non-null float64\n",
      "open      1511 non-null float64\n",
      "high      1511 non-null float64\n",
      "low       1511 non-null float64\n",
      "dtypes: float64(5)\n",
      "memory usage: 70.8 KB\n"
     ]
    }
   ],
   "source": [
    "df.info()"
   ]
  },
  {
   "cell_type": "markdown",
   "metadata": {},
   "source": [
    "Let us the variation of the numerical values with time by plotting it."
   ]
  },
  {
   "cell_type": "code",
   "execution_count": 5,
   "metadata": {},
   "outputs": [
    {
     "data": {
      "text/plain": [
       "<matplotlib.axes._subplots.AxesSubplot at 0x7faf36675ef0>"
      ]
     },
     "execution_count": 5,
     "metadata": {},
     "output_type": "execute_result"
    }
   ],
   "source": [
    "from matplotlib import pyplot as plt\n",
    "df['close'].plot()"
   ]
  },
  {
   "cell_type": "code",
   "execution_count": 6,
   "metadata": {},
   "outputs": [
    {
     "data": {
      "text/plain": [
       "<matplotlib.axes._subplots.AxesSubplot at 0x7faf343812b0>"
      ]
     },
     "execution_count": 6,
     "metadata": {},
     "output_type": "execute_result"
    },
    {
     "data": {
      "image/png": "[encoded data removed]",
      "text/plain": [
       "<Figure size 432x288 with 1 Axes>"
      ]
     },
     "metadata": {
      "needs_background": "light"
     },
     "output_type": "display_data"
    }
   ],
   "source": [
    "df['open'].plot()"
   ]
  },
  {
   "cell_type": "code",
   "execution_count": 7,
   "metadata": {},
   "outputs": [
    {
     "data": {
      "text/plain": [
       "<matplotlib.axes._subplots.AxesSubplot at 0x7faf342f8208>"
      ]
     },
     "execution_count": 7,
     "metadata": {},
     "output_type": "execute_result"
    },
    {
     "data": {
      "image/png": "[encoded data removed]",
      "text/plain": [
       "<Figure size 432x288 with 1 Axes>"
      ]
     },
     "metadata": {
      "needs_background": "light"
     },
     "output_type": "display_data"
    }
   ],
   "source": [
    "df['volume'].plot()"
   ]
  },
  {
   "cell_type": "code",
   "execution_count": 8,
   "metadata": {},
   "outputs": [
    {
     "data": {
      "text/plain": [
       "<matplotlib.axes._subplots.AxesSubplot at 0x7faf33c67860>"
      ]
     },
     "execution_count": 8,
     "metadata": {},
     "output_type": "execute_result"
    },
    {
     "data": {
      "image/png": "[encoded data removed]",
      "text/plain": [
       "<Figure size 432x288 with 1 Axes>"
      ]
     },
     "metadata": {
      "needs_background": "light"
     },
     "output_type": "display_data"
    }
   ],
   "source": [
    "df['high'].plot()"
   ]
  },
  {
   "cell_type": "code",
   "execution_count": 9,
   "metadata": {},
   "outputs": [
    {
     "data": {
      "text/plain": [
       "<matplotlib.axes._subplots.AxesSubplot at 0x7faf33b8ba90>"
      ]
     },
     "execution_count": 9,
     "metadata": {},
     "output_type": "execute_result"
    },
    {
     "data": {
      "image/png": "[encoded data removed]",
      "text/plain": [
       "<Figure size 432x288 with 1 Axes>"
      ]
     },
     "metadata": {
      "needs_background": "light"
     },
     "output_type": "display_data"
    }
   ],
   "source": [
    "df['low'].plot()"
   ]
  },
  {
   "cell_type": "markdown",
   "metadata": {},
   "source": [
    "Now, let's create a new feature 'avg' which will represent the average value of stock for the day.\n",
    "i.e avg = (open + close) / 2"
   ]
  },
  {
   "cell_type": "code",
   "execution_count": 10,
   "metadata": {},
   "outputs": [
    {
     "data": {
      "text/html": [
       "<div>\n",
       "<style scoped>\n",
       "    .dataframe tbody tr th:only-of-type {\n",
       "        vertical-align: middle;\n",
       "    }\n",
       "\n",
       "    .dataframe tbody tr th {\n",
       "        vertical-align: top;\n",
       "    }\n",
       "\n",
       "    .dataframe thead th {\n",
       "        text-align: right;\n",
       "    }\n",
       "</style>\n",
       "<table border=\"1\" class=\"dataframe\">\n",
       "  <thead>\n",
       "    <tr style=\"text-align: right;\">\n",
       "      <th></th>\n",
       "      <th>close</th>\n",
       "      <th>volume</th>\n",
       "      <th>open</th>\n",
       "      <th>high</th>\n",
       "      <th>low</th>\n",
       "      <th>avg</th>\n",
       "    </tr>\n",
       "    <tr>\n",
       "      <th>date</th>\n",
       "      <th></th>\n",
       "      <th></th>\n",
       "      <th></th>\n",
       "      <th></th>\n",
       "      <th></th>\n",
       "      <th></th>\n",
       "    </tr>\n",
       "  </thead>\n",
       "  <tbody>\n",
       "    <tr>\n",
       "      <th>2019-08-16</th>\n",
       "      <td>219.94</td>\n",
       "      <td>5207376.0</td>\n",
       "      <td>216.66</td>\n",
       "      <td>222.24</td>\n",
       "      <td>216.02</td>\n",
       "      <td>218.300</td>\n",
       "    </tr>\n",
       "    <tr>\n",
       "      <th>2019-08-15</th>\n",
       "      <td>215.64</td>\n",
       "      <td>8231952.0</td>\n",
       "      <td>220.86</td>\n",
       "      <td>221.56</td>\n",
       "      <td>211.55</td>\n",
       "      <td>218.250</td>\n",
       "    </tr>\n",
       "    <tr>\n",
       "      <th>2019-08-14</th>\n",
       "      <td>219.62</td>\n",
       "      <td>9562591.0</td>\n",
       "      <td>231.21</td>\n",
       "      <td>231.50</td>\n",
       "      <td>216.69</td>\n",
       "      <td>225.415</td>\n",
       "    </tr>\n",
       "    <tr>\n",
       "      <th>2019-08-13</th>\n",
       "      <td>235.00</td>\n",
       "      <td>4868998.0</td>\n",
       "      <td>228.81</td>\n",
       "      <td>236.00</td>\n",
       "      <td>227.55</td>\n",
       "      <td>231.905</td>\n",
       "    </tr>\n",
       "    <tr>\n",
       "      <th>2019-08-12</th>\n",
       "      <td>229.01</td>\n",
       "      <td>4663937.0</td>\n",
       "      <td>232.99</td>\n",
       "      <td>235.77</td>\n",
       "      <td>228.75</td>\n",
       "      <td>231.000</td>\n",
       "    </tr>\n",
       "  </tbody>\n",
       "</table>\n",
       "</div>"
      ],
      "text/plain": [
       "             close     volume    open    high     low      avg\n",
       "date                                                          \n",
       "2019-08-16  219.94  5207376.0  216.66  222.24  216.02  218.300\n",
       "2019-08-15  215.64  8231952.0  220.86  221.56  211.55  218.250\n",
       "2019-08-14  219.62  9562591.0  231.21  231.50  216.69  225.415\n",
       "2019-08-13  235.00  4868998.0  228.81  236.00  227.55  231.905\n",
       "2019-08-12  229.01  4663937.0  232.99  235.77  228.75  231.000"
      ]
     },
     "execution_count": 10,
     "metadata": {},
     "output_type": "execute_result"
    }
   ],
   "source": [
    "avg = pd.DataFrame((df['open'] + df['close']) / 2, columns = ['avg'])\n",
    "df = pd.concat([df, avg], axis = 1)\n",
    "df.head()"
   ]
  },
  {
   "cell_type": "markdown",
   "metadata": {},
   "source": [
    "Now, let's normalize the data so that it's values lie between 0 and 1."
   ]
  },
  {
   "cell_type": "code",
   "execution_count": 11,
   "metadata": {},
   "outputs": [
    {
     "data": {
      "text/html": [
       "<div>\n",
       "<style scoped>\n",
       "    .dataframe tbody tr th:only-of-type {\n",
       "        vertical-align: middle;\n",
       "    }\n",
       "\n",
       "    .dataframe tbody tr th {\n",
       "        vertical-align: top;\n",
       "    }\n",
       "\n",
       "    .dataframe thead th {\n",
       "        text-align: right;\n",
       "    }\n",
       "</style>\n",
       "<table border=\"1\" class=\"dataframe\">\n",
       "  <thead>\n",
       "    <tr style=\"text-align: right;\">\n",
       "      <th></th>\n",
       "      <th>avg</th>\n",
       "    </tr>\n",
       "    <tr>\n",
       "      <th>date</th>\n",
       "      <th></th>\n",
       "    </tr>\n",
       "  </thead>\n",
       "  <tbody>\n",
       "    <tr>\n",
       "      <th>2019-08-16</th>\n",
       "      <td>0.373978</td>\n",
       "    </tr>\n",
       "    <tr>\n",
       "      <th>2019-08-15</th>\n",
       "      <td>0.373788</td>\n",
       "    </tr>\n",
       "    <tr>\n",
       "      <th>2019-08-14</th>\n",
       "      <td>0.401030</td>\n",
       "    </tr>\n",
       "    <tr>\n",
       "      <th>2019-08-13</th>\n",
       "      <td>0.425706</td>\n",
       "    </tr>\n",
       "    <tr>\n",
       "      <th>2019-08-12</th>\n",
       "      <td>0.422265</td>\n",
       "    </tr>\n",
       "  </tbody>\n",
       "</table>\n",
       "</div>"
      ],
      "text/plain": [
       "                 avg\n",
       "date                \n",
       "2019-08-16  0.373978\n",
       "2019-08-15  0.373788\n",
       "2019-08-14  0.401030\n",
       "2019-08-13  0.425706\n",
       "2019-08-12  0.422265"
      ]
     },
     "execution_count": 11,
     "metadata": {},
     "output_type": "execute_result"
    }
   ],
   "source": [
    "from sklearn.preprocessing import MinMaxScaler\n",
    "scaler = MinMaxScaler()\n",
    "df_scaled = pd.DataFrame(scaler.fit_transform(df[['avg']]), columns = ['avg'], index = df.index)\n",
    "df_scaled.head()"
   ]
  },
  {
   "cell_type": "markdown",
   "metadata": {},
   "source": [
    "Now, let's predict the avg value of the stock using avg feature. The LSTM model will be used to predict the future values of the avg feature based on certain number of past values. Let this number be represented as window."
   ]
  },
  {
   "cell_type": "markdown",
   "metadata": {},
   "source": [
    "Let us consider a model in which the avg value depends on past 30 days. Therefore, for each time step, the 30 values will be input and output will be the prediction based on these past 30 values according to our LSTM model."
   ]
  },
  {
   "cell_type": "code",
   "execution_count": 12,
   "metadata": {},
   "outputs": [],
   "source": [
    "window = 30"
   ]
  },
  {
   "cell_type": "markdown",
   "metadata": {},
   "source": [
    "Let us segragate between the train and test data. Let the test data be the last 30 days i.e we will predict the last 30 days' avg stock value price."
   ]
  },
  {
   "cell_type": "code",
   "execution_count": 13,
   "metadata": {},
   "outputs": [
    {
     "data": {
      "text/plain": [
       "array([0.4373693 , 0.42661876, 0.43673244, 0.41312117, 0.4200981 ,\n",
       "       0.39198129, 0.39888217, 0.40954717, 0.42447055, 0.4594312 ,\n",
       "       0.53112049, 0.53134862, 0.52891525, 0.53205201, 0.51022775,\n",
       "       0.49758564, 0.46112315, 0.4747348 , 0.47408844, 0.48471541,\n",
       "       0.49349835, 0.5007034 , 0.48619824, 0.50406829, 0.52741341,\n",
       "       0.54617695, 0.53973233, 0.52471389, 0.54817307, 0.6079997 ,\n",
       "       0.61003384, 0.60971066, 0.61136459, 0.60805673, 0.60845595,\n",
       "       0.62767575, 0.62541348, 0.60784761, 0.56750694, 0.54345842,\n",
       "       0.54535949, 0.54530246, 0.53393407, 0.51602601, 0.51515152,\n",
       "       0.514239  , 0.52421961, 0.53859169, 0.53916201, 0.53988442,\n",
       "       0.53693776, 0.52880119, 0.52264172, 0.49315615, 0.49927759,\n",
       "       0.4713701 , 0.44880423, 0.44298696, 0.41724649, 0.40431923,\n",
       "       0.40104939, 0.40253222, 0.3976845 , 0.39239953, 0.39335006,\n",
       "       0.38519448, 0.3838067 , 0.37624045, 0.37278069, 0.36439679,\n",
       "       0.37850272, 0.39243755, 0.39315996, 0.37804646, 0.37405422,\n",
       "       0.38867343, 0.37610737, 0.39975666, 0.41948975, 0.43763545,\n",
       "       0.46062887, 0.45574313, 0.44460287, 0.44273982, 0.4373617 ,\n",
       "       0.44026843, 0.43125737, 0.41487016, 0.41213262, 0.4158397 ,\n",
       "       0.41044067, 0.36403559, 0.32569104, 0.32078628, 0.31574845,\n",
       "       0.31719326, 0.32960724, 0.33846812, 0.32601422, 0.32025398,\n",
       "       0.32042508, 0.32726893, 0.33875138, 0.34396031, 0.34291472,\n",
       "       0.34257253, 0.32688871, 0.31434166, 0.2960914 , 0.28964678,\n",
       "       0.27932398, 0.26734725, 0.26365918, 0.26556024, 0.25481921,\n",
       "       0.24459146, 0.2323866 , 0.22947797, 0.32529181, 0.34979659,\n",
       "       0.35399795, 0.34148892, 0.3325539 , 0.32624235, 0.31415155,\n",
       "       0.30156648, 0.30791605, 0.33989202, 0.35063306, 0.35192578,\n",
       "       0.30717463, 0.30008365, 0.29700392, 0.29109159, 0.31521615,\n",
       "       0.31274476, 0.34434052, 0.36844607, 0.35289533, 0.32974031,\n",
       "       0.37708642, 0.41028858, 0.4000038 , 0.35380784, 0.35183073,\n",
       "       0.35224896, 0.34183111, 0.37076537, 0.3891487 , 0.39930041,\n",
       "       0.42779742, 0.439508  , 0.45121858, 0.45076233, 0.43543972,\n",
       "       0.43036386, 0.45948823, 0.44315805, 0.43920383, 0.45941219,\n",
       "       0.49289   , 0.50796548, 0.51233793, 0.51982814, 0.4713509 ,\n",
       "       0.48397399, 0.52072165, 0.51652028, 0.45268241, 0.35460629,\n",
       "       0.34477777, 0.35188776, 0.29934223, 0.32140223, 0.29742215,\n",
       "       0.29103456, 0.28747956, 0.29601536, 0.27759401, 0.24269039,\n",
       "       0.21824265, 0.21451656, 0.22727273, 0.22835634, 0.22885061,\n",
       "       0.22995323, 0.21035322, 0.20911752, 0.19942208, 0.21400327,\n",
       "       0.22594198, 0.22145546, 0.20539143, 0.19071518, 0.17792099,\n",
       "       0.17622904, 0.11765712, 0.08600433, 0.10322782, 0.11434926,\n",
       "       0.11453937, 0.10855101, 0.10858903, 0.11345576, 0.11410213,\n",
       "       0.11951827, 0.12106004, 0.12649709, 0.13432949, 0.11697274,\n",
       "       0.09223984, 0.08543401, 0.09075701, 0.11471047, 0.11436827,\n",
       "       0.10748641, 0.10612524, 0.08990152, 0.0791795 , 0.08052926,\n",
       "       0.07360937, 0.07412266, 0.07746854, 0.08248736, 0.07129007,\n",
       "       0.02022737, 0.03264134, 0.01591194, 0.        , 0.01037983,\n",
       "       0.00585529, 0.00971446, 0.01389681, 0.01072203, 0.03226113,\n",
       "       0.06163264, 0.06965515, 0.07539637, 0.08100452, 0.08710315,\n",
       "       0.06568191, 0.0838029 , 0.12564161, 0.22229193, 0.19071518,\n",
       "       0.16214212, 0.14396791, 0.15963271, 0.16605832, 0.17710353,\n",
       "       0.1976921 , 0.18681799, 0.17780693, 0.19421315, 0.22052393,\n",
       "       0.2427094 , 0.24041291, 0.24443937, 0.24588419, 0.2183187 ,\n",
       "       0.2121022 , 0.2017794 , 0.19700772, 0.22670241, 0.23886924,\n",
       "       0.22337554, 0.20621839, 0.24649253, 0.27960914, 0.27088324,\n",
       "       0.26337402, 0.25751873, 0.24508194, 0.23115091, 0.23898331,\n",
       "       0.23270978, 0.20691228, 0.177575  , 0.17381468, 0.18003118,\n",
       "       0.16811148, 0.16929014, 0.17119121, 0.16717996, 0.15957568,\n",
       "       0.1818562 , 0.190392  , 0.19108019, 0.19478347, 0.18153302,\n",
       "       0.17184708, 0.18179917, 0.17001255, 0.17012661, 0.15010646,\n",
       "       0.12630698, 0.11022395, 0.11092734, 0.09210106, 0.08317174])"
      ]
     },
     "execution_count": 13,
     "metadata": {},
     "output_type": "execute_result"
    }
   ],
   "source": [
    "test_size = 300\n",
    "avg_list = list(df_scaled['avg'])\n",
    "test = avg_list[-test_size:]\n",
    "test = np.array(test)\n",
    "test"
   ]
  },
  {
   "cell_type": "markdown",
   "metadata": {},
   "source": [
    "Now, let's make the training set. "
   ]
  },
  {
   "cell_type": "code",
   "execution_count": 14,
   "metadata": {},
   "outputs": [],
   "source": [
    "len_train_set = len(avg_list) - len(test)"
   ]
  },
  {
   "cell_type": "code",
   "execution_count": 15,
   "metadata": {},
   "outputs": [],
   "source": [
    "X_train = []\n",
    "y_train = []\n",
    "for l in range(0, (len_train_set - window)):\n",
    "    X_train.append(avg_list[l:window + l])\n",
    "    y_train.append(avg_list[window + l])\n",
    "X_train = np.array(X_train)\n",
    "y_train = np.array(y_train)"
   ]
  },
  {
   "cell_type": "code",
   "execution_count": 16,
   "metadata": {},
   "outputs": [
    {
     "data": {
      "text/plain": [
       "array([[0.37397818, 0.37378807, 0.40103038, ..., 0.44331014, 0.41661914,\n",
       "        0.42146686],\n",
       "       [0.37378807, 0.40103038, 0.42570625, ..., 0.41661914, 0.42146686,\n",
       "        0.43304437],\n",
       "       [0.40103038, 0.42570625, 0.42226531, ..., 0.42146686, 0.43304437,\n",
       "        0.44562944],\n",
       "       ...,\n",
       "       [0.34996768, 0.3542641 , 0.37264743, ..., 0.46448804, 0.45040113,\n",
       "        0.45502072],\n",
       "       [0.3542641 , 0.37264743, 0.40397704, ..., 0.45040113, 0.45502072,\n",
       "        0.44197939],\n",
       "       [0.37264743, 0.40397704, 0.41253184, ..., 0.45502072, 0.44197939,\n",
       "        0.41070682]])"
      ]
     },
     "execution_count": 16,
     "metadata": {},
     "output_type": "execute_result"
    }
   ],
   "source": [
    "X_train"
   ]
  },
  {
   "cell_type": "code",
   "execution_count": 17,
   "metadata": {},
   "outputs": [
    {
     "data": {
      "text/plain": [
       "array([0.43304437, 0.44562944, 0.40599217, ..., 0.44197939, 0.41070682,\n",
       "       0.44034447])"
      ]
     },
     "execution_count": 17,
     "metadata": {},
     "output_type": "execute_result"
    }
   ],
   "source": [
    "y_train"
   ]
  },
  {
   "cell_type": "markdown",
   "metadata": {},
   "source": [
    "Let's reshape the X_train array according to format (batch_size, time_step, input_dim)"
   ]
  },
  {
   "cell_type": "code",
   "execution_count": 18,
   "metadata": {},
   "outputs": [],
   "source": [
    "X_train = np.reshape(X_train, (X_train.shape[0], X_train.shape[1], 1))"
   ]
  },
  {
   "cell_type": "markdown",
   "metadata": {},
   "source": [
    "Now, let's build the model with Keras and Tensorflow."
   ]
  },
  {
   "cell_type": "code",
   "execution_count": 19,
   "metadata": {},
   "outputs": [
    {
     "name": "stderr",
     "output_type": "stream",
     "text": [
      "Using TensorFlow backend.\n"
     ]
    }
   ],
   "source": [
    "from keras.models import Sequential\n",
    "from keras.layers import LSTM, Dropout, Dense, BatchNormalization, Add\n",
    "from tensorflow.python.keras.callbacks import TensorBoard\n",
    "from time import time"
   ]
  },
  {
   "cell_type": "code",
   "execution_count": 20,
   "metadata": {},
   "outputs": [],
   "source": [
    "tensorboard = TensorBoard(log_dir = 'logs/{}'.format(time))"
   ]
  },
  {
   "cell_type": "code",
   "execution_count": 21,
   "metadata": {},
   "outputs": [],
   "source": [
    "model = Sequential()\n",
    "model.add(LSTM(30, activation='tanh', recurrent_activation='hard_sigmoid', return_sequences = True))\n",
    "model.add(Dropout(0.2))\n",
    "model.add(LSTM(30, activation='tanh', recurrent_activation='hard_sigmoid', return_sequences = True))\n",
    "model.add(Dropout(0.1))\n",
    "model.add(LSTM(30, activation='tanh', recurrent_activation='hard_sigmoid'))\n",
    "model.add(Dropout(0.1))\n",
    "model.add(Dense(30))\n",
    "model.add(Dropout(0.1))\n",
    "model.add(BatchNormalization())\n",
    "model.add(Dense(1))"
   ]
  },
  {
   "cell_type": "code",
   "execution_count": 22,
   "metadata": {},
   "outputs": [
    {
     "name": "stdout",
     "output_type": "stream",
     "text": [
      "WARNING:tensorflow:From /home/atharva/.local/lib/python3.6/site-packages/tensorflow/python/framework/op_def_library.py:263: colocate_with (from tensorflow.python.framework.ops) is deprecated and will be removed in a future version.\n",
      "Instructions for updating:\n",
      "Colocations handled automatically by placer.\n"
     ]
    }
   ],
   "source": [
    "model.compile(optimizer = 'adam', loss = 'mean_squared_error')"
   ]
  },
  {
   "cell_type": "code",
   "execution_count": 23,
   "metadata": {},
   "outputs": [
    {
     "name": "stdout",
     "output_type": "stream",
     "text": [
      "WARNING:tensorflow:From /home/atharva/.local/lib/python3.6/site-packages/keras/backend/tensorflow_backend.py:3445: calling dropout (from tensorflow.python.ops.nn_ops) with keep_prob is deprecated and will be removed in a future version.\n",
      "Instructions for updating:\n",
      "Please use `rate` instead of `keep_prob`. Rate should be set to `rate = 1 - keep_prob`.\n",
      "WARNING:tensorflow:From /home/atharva/.local/lib/python3.6/site-packages/tensorflow/python/ops/math_ops.py:3066: to_int32 (from tensorflow.python.ops.math_ops) is deprecated and will be removed in a future version.\n",
      "Instructions for updating:\n",
      "Use tf.cast instead.\n",
      "Epoch 1/100\n",
      "1181/1181 [==============================] - 5s 4ms/step - loss: 0.2148\n",
      "Epoch 2/100\n",
      "1181/1181 [==============================] - 2s 1ms/step - loss: 0.0438\n",
      "Epoch 3/100\n",
      "1181/1181 [==============================] - 2s 1ms/step - loss: 0.0093\n",
      "Epoch 4/100\n",
      "1181/1181 [==============================] - 2s 1ms/step - loss: 0.0087\n",
      "Epoch 5/100\n",
      "1181/1181 [==============================] - 2s 2ms/step - loss: 0.0078\n",
      "Epoch 6/100\n",
      "1181/1181 [==============================] - 2s 1ms/step - loss: 0.0074\n",
      "Epoch 7/100\n",
      "1181/1181 [==============================] - 2s 1ms/step - loss: 0.0074\n",
      "Epoch 8/100\n",
      "1181/1181 [==============================] - 2s 1ms/step - loss: 0.0065\n",
      "Epoch 9/100\n",
      "1181/1181 [==============================] - 2s 1ms/step - loss: 0.0063\n",
      "Epoch 10/100\n",
      "1181/1181 [==============================] - 2s 1ms/step - loss: 0.0063\n",
      "Epoch 11/100\n",
      "1181/1181 [==============================] - 2s 1ms/step - loss: 0.0066\n",
      "Epoch 12/100\n",
      "1181/1181 [==============================] - 2s 1ms/step - loss: 0.0062\n",
      "Epoch 13/100\n",
      "1181/1181 [==============================] - 2s 1ms/step - loss: 0.0059\n",
      "Epoch 14/100\n",
      "1181/1181 [==============================] - 2s 1ms/step - loss: 0.0053\n",
      "Epoch 15/100\n",
      "1181/1181 [==============================] - 2s 1ms/step - loss: 0.0057\n",
      "Epoch 16/100\n",
      "1181/1181 [==============================] - 2s 1ms/step - loss: 0.0055\n",
      "Epoch 17/100\n",
      "1181/1181 [==============================] - 2s 1ms/step - loss: 0.0050\n",
      "Epoch 18/100\n",
      "1181/1181 [==============================] - 2s 1ms/step - loss: 0.0046\n",
      "Epoch 19/100\n",
      "1181/1181 [==============================] - 2s 1ms/step - loss: 0.0049\n",
      "Epoch 20/100\n",
      "1181/1181 [==============================] - 2s 1ms/step - loss: 0.0048\n",
      "Epoch 21/100\n",
      "1181/1181 [==============================] - 2s 1ms/step - loss: 0.0057\n",
      "Epoch 22/100\n",
      "1181/1181 [==============================] - 2s 1ms/step - loss: 0.0054\n",
      "Epoch 23/100\n",
      "1181/1181 [==============================] - 2s 1ms/step - loss: 0.0045\n",
      "Epoch 24/100\n",
      "1181/1181 [==============================] - 2s 1ms/step - loss: 0.0046\n",
      "Epoch 25/100\n",
      "1181/1181 [==============================] - 2s 1ms/step - loss: 0.0044\n",
      "Epoch 26/100\n",
      "1181/1181 [==============================] - 2s 1ms/step - loss: 0.0048\n",
      "Epoch 27/100\n",
      "1181/1181 [==============================] - 2s 1ms/step - loss: 0.0048\n",
      "Epoch 28/100\n",
      "1181/1181 [==============================] - 2s 1ms/step - loss: 0.0054\n",
      "Epoch 29/100\n",
      "1181/1181 [==============================] - 2s 1ms/step - loss: 0.0040\n",
      "Epoch 30/100\n",
      "1181/1181 [==============================] - 2s 1ms/step - loss: 0.0039\n",
      "Epoch 31/100\n",
      "1181/1181 [==============================] - 2s 1ms/step - loss: 0.0038\n",
      "Epoch 32/100\n",
      "1181/1181 [==============================] - 2s 1ms/step - loss: 0.0043\n",
      "Epoch 33/100\n",
      "1181/1181 [==============================] - 2s 1ms/step - loss: 0.0042\n",
      "Epoch 34/100\n",
      "1181/1181 [==============================] - 2s 1ms/step - loss: 0.0042\n",
      "Epoch 35/100\n",
      "1181/1181 [==============================] - 2s 1ms/step - loss: 0.0034\n",
      "Epoch 36/100\n",
      "1181/1181 [==============================] - 2s 1ms/step - loss: 0.0043\n",
      "Epoch 37/100\n",
      "1181/1181 [==============================] - 2s 1ms/step - loss: 0.0039\n",
      "Epoch 38/100\n",
      "1181/1181 [==============================] - 2s 1ms/step - loss: 0.0035\n",
      "Epoch 39/100\n",
      "1181/1181 [==============================] - 2s 1ms/step - loss: 0.0039\n",
      "Epoch 40/100\n",
      "1181/1181 [==============================] - 2s 1ms/step - loss: 0.0042\n",
      "Epoch 41/100\n",
      "1181/1181 [==============================] - 2s 1ms/step - loss: 0.0035\n",
      "Epoch 42/100\n",
      "1181/1181 [==============================] - 2s 1ms/step - loss: 0.0045\n",
      "Epoch 43/100\n",
      "1181/1181 [==============================] - 2s 1ms/step - loss: 0.0032\n",
      "Epoch 44/100\n",
      "1181/1181 [==============================] - 2s 1ms/step - loss: 0.0042\n",
      "Epoch 45/100\n",
      "1181/1181 [==============================] - 2s 1ms/step - loss: 0.0040\n",
      "Epoch 46/100\n",
      "1181/1181 [==============================] - 2s 1ms/step - loss: 0.0045\n",
      "Epoch 47/100\n",
      "1181/1181 [==============================] - 2s 1ms/step - loss: 0.0043\n",
      "Epoch 48/100\n",
      "1181/1181 [==============================] - 2s 1ms/step - loss: 0.0038\n",
      "Epoch 49/100\n",
      "1181/1181 [==============================] - 2s 1ms/step - loss: 0.0036\n",
      "Epoch 50/100\n",
      "1181/1181 [==============================] - 2s 1ms/step - loss: 0.0043\n",
      "Epoch 51/100\n",
      "1181/1181 [==============================] - 2s 1ms/step - loss: 0.0035\n",
      "Epoch 52/100\n",
      "1181/1181 [==============================] - 2s 2ms/step - loss: 0.0038\n",
      "Epoch 53/100\n",
      "1181/1181 [==============================] - 2s 1ms/step - loss: 0.0036\n",
      "Epoch 54/100\n",
      "1181/1181 [==============================] - 2s 1ms/step - loss: 0.0037\n",
      "Epoch 55/100\n",
      "1181/1181 [==============================] - 2s 1ms/step - loss: 0.0038\n",
      "Epoch 56/100\n",
      "1181/1181 [==============================] - 2s 1ms/step - loss: 0.0038\n",
      "Epoch 57/100\n",
      "1181/1181 [==============================] - 2s 1ms/step - loss: 0.0038\n",
      "Epoch 58/100\n",
      "1181/1181 [==============================] - 2s 1ms/step - loss: 0.0035\n",
      "Epoch 59/100\n",
      "1181/1181 [==============================] - 2s 1ms/step - loss: 0.0031\n",
      "Epoch 60/100\n",
      "1181/1181 [==============================] - 2s 1ms/step - loss: 0.0039\n",
      "Epoch 61/100\n",
      "1181/1181 [==============================] - 2s 1ms/step - loss: 0.0028\n",
      "Epoch 62/100\n",
      "1181/1181 [==============================] - 2s 1ms/step - loss: 0.0034\n",
      "Epoch 63/100\n",
      "1181/1181 [==============================] - 2s 1ms/step - loss: 0.0038\n",
      "Epoch 64/100\n",
      "1181/1181 [==============================] - 2s 1ms/step - loss: 0.0034\n",
      "Epoch 65/100\n",
      "1181/1181 [==============================] - 2s 1ms/step - loss: 0.0028\n",
      "Epoch 66/100\n",
      "1181/1181 [==============================] - 2s 1ms/step - loss: 0.0032\n",
      "Epoch 67/100\n",
      "1181/1181 [==============================] - 2s 1ms/step - loss: 0.0045\n",
      "Epoch 68/100\n",
      "1181/1181 [==============================] - 2s 1ms/step - loss: 0.0040\n",
      "Epoch 69/100\n",
      "1181/1181 [==============================] - 2s 1ms/step - loss: 0.0036\n",
      "Epoch 70/100\n",
      "1181/1181 [==============================] - 2s 1ms/step - loss: 0.0038\n",
      "Epoch 71/100\n",
      "1181/1181 [==============================] - 2s 1ms/step - loss: 0.0037\n",
      "Epoch 72/100\n",
      "1181/1181 [==============================] - 2s 1ms/step - loss: 0.0027\n",
      "Epoch 73/100\n",
      "1181/1181 [==============================] - 2s 1ms/step - loss: 0.0033\n",
      "Epoch 74/100\n",
      "1181/1181 [==============================] - 2s 1ms/step - loss: 0.0037\n",
      "Epoch 75/100\n",
      "1181/1181 [==============================] - 2s 1ms/step - loss: 0.0032\n",
      "Epoch 76/100\n",
      "1181/1181 [==============================] - 2s 1ms/step - loss: 0.0033\n",
      "Epoch 77/100\n",
      "1181/1181 [==============================] - 2s 1ms/step - loss: 0.0040\n",
      "Epoch 78/100\n",
      "1181/1181 [==============================] - 2s 1ms/step - loss: 0.0034\n",
      "Epoch 79/100\n",
      "1181/1181 [==============================] - 2s 1ms/step - loss: 0.0036\n",
      "Epoch 80/100\n",
      "1181/1181 [==============================] - 2s 1ms/step - loss: 0.0034\n",
      "Epoch 81/100\n",
      "1181/1181 [==============================] - 2s 1ms/step - loss: 0.0026\n",
      "Epoch 82/100\n",
      "1181/1181 [==============================] - 2s 1ms/step - loss: 0.0029\n",
      "Epoch 83/100\n",
      "1181/1181 [==============================] - 2s 1ms/step - loss: 0.0034\n",
      "Epoch 84/100\n",
      "1181/1181 [==============================] - 2s 1ms/step - loss: 0.0029\n",
      "Epoch 85/100\n",
      "1181/1181 [==============================] - 2s 1ms/step - loss: 0.0027\n",
      "Epoch 86/100\n",
      "1181/1181 [==============================] - 2s 1ms/step - loss: 0.0027\n",
      "Epoch 87/100\n",
      "1181/1181 [==============================] - 2s 2ms/step - loss: 0.0030\n",
      "Epoch 88/100\n",
      "1181/1181 [==============================] - 2s 1ms/step - loss: 0.0030\n",
      "Epoch 89/100\n",
      "1181/1181 [==============================] - 2s 1ms/step - loss: 0.0027\n",
      "Epoch 90/100\n",
      "1181/1181 [==============================] - 2s 1ms/step - loss: 0.0036\n",
      "Epoch 91/100\n",
      "1181/1181 [==============================] - 2s 1ms/step - loss: 0.0030\n",
      "Epoch 92/100\n",
      "1181/1181 [==============================] - 2s 1ms/step - loss: 0.0029\n",
      "Epoch 93/100\n",
      "1181/1181 [==============================] - 2s 1ms/step - loss: 0.0030\n",
      "Epoch 94/100\n",
      "1181/1181 [==============================] - 2s 1ms/step - loss: 0.0029\n",
      "Epoch 95/100\n",
      "1181/1181 [==============================] - 2s 1ms/step - loss: 0.0034\n",
      "Epoch 96/100\n",
      "1181/1181 [==============================] - 2s 1ms/step - loss: 0.0028\n",
      "Epoch 97/100\n",
      "1181/1181 [==============================] - 2s 1ms/step - loss: 0.0029\n",
      "Epoch 98/100\n",
      "1181/1181 [==============================] - 2s 1ms/step - loss: 0.0035\n",
      "Epoch 99/100\n",
      "1181/1181 [==============================] - 2s 1ms/step - loss: 0.0028\n",
      "Epoch 100/100\n",
      "1181/1181 [==============================] - 2s 1ms/step - loss: 0.0025\n"
     ]
    },
    {
     "data": {
      "text/plain": [
       "<keras.callbacks.History at 0x7faf33c53208>"
      ]
     },
     "execution_count": 23,
     "metadata": {},
     "output_type": "execute_result"
    }
   ],
   "source": [
    "model.fit(X_train, y_train, 32, epochs = 100, callbacks = [tensorboard])"
   ]
  },
  {
   "cell_type": "markdown",
   "metadata": {},
   "source": [
    "The tensorboard interface is loaded below. The graph visualizer tool helps us to visualize the computational graph of the model."
   ]
  },
  {
   "cell_type": "code",
   "execution_count": 24,
   "metadata": {},
   "outputs": [
    {
     "data": {
      "text/plain": [
       "Reusing TensorBoard on port 6008 (pid 6585), started 0:49:23 ago. (Use '!kill 6585' to kill it.)"
      ]
     },
     "metadata": {},
     "output_type": "display_data"
    },
    {
     "data": {
      "text/html": [
       "\n",
       "        <iframe\n",
       "            width=\"100%\"\n",
       "            height=\"600\"\n",
       "            src=\"http://localhost:6008\"\n",
       "            frameborder=\"0\"\n",
       "            allowfullscreen\n",
       "        ></iframe>\n",
       "        "
      ],
      "text/plain": [
       "<IPython.lib.display.IFrame at 0x7faf102bc400>"
      ]
     },
     "metadata": {},
     "output_type": "display_data"
    }
   ],
   "source": [
    "%load_ext tensorboard.notebook\n",
    "%tensorboard --logdir logs/"
   ]
  },
  {
   "cell_type": "markdown",
   "metadata": {},
   "source": [
    "Now, creating X_test,"
   ]
  },
  {
   "cell_type": "code",
   "execution_count": 25,
   "metadata": {},
   "outputs": [],
   "source": [
    "X_test = []\n",
    "for l in range(len_train_set, (len(avg_list) - window)):\n",
    "    X_test.append(avg_list[l:window + l])\n",
    "X_test = np.array(X_test)\n",
    "X_test = np.reshape(X_test, (X_test.shape[0], X_test.shape[1], 1))"
   ]
  },
  {
   "cell_type": "code",
   "execution_count": 26,
   "metadata": {},
   "outputs": [
    {
     "data": {
      "text/plain": [
       "270"
      ]
     },
     "execution_count": 26,
     "metadata": {},
     "output_type": "execute_result"
    }
   ],
   "source": [
    "len(X_test)"
   ]
  },
  {
   "cell_type": "markdown",
   "metadata": {},
   "source": [
    "Now, let us make predictions based on trained data."
   ]
  },
  {
   "cell_type": "code",
   "execution_count": 27,
   "metadata": {},
   "outputs": [
    {
     "data": {
      "text/plain": [
       "array([[292.54504],\n",
       "       [294.97516],\n",
       "       [295.43204],\n",
       "       [295.29156],\n",
       "       [294.30127],\n",
       "       [294.286  ],\n",
       "       [298.91367],\n",
       "       [298.9818 ],\n",
       "       [295.16312],\n",
       "       [285.32404],\n",
       "       [278.51672],\n",
       "       [278.10175],\n",
       "       [278.51385],\n",
       "       [276.4506 ],\n",
       "       [272.2175 ],\n",
       "       [271.29208],\n",
       "       [270.9602 ],\n",
       "       [273.26694],\n",
       "       [276.90826],\n",
       "       [277.55414],\n",
       "       [277.63635],\n",
       "       [276.7055 ],\n",
       "       [274.55777],\n",
       "       [272.73355],\n",
       "       [265.8367 ],\n",
       "       [266.0354 ],\n",
       "       [260.07294],\n",
       "       [254.19499],\n",
       "       [251.84703],\n",
       "       [246.1433 ],\n",
       "       [242.29439],\n",
       "       [240.95377],\n",
       "       [241.25577],\n",
       "       [240.46187],\n",
       "       [239.10324],\n",
       "       [238.87323],\n",
       "       [237.04771],\n",
       "       [236.19589],\n",
       "       [234.37097],\n",
       "       [233.14932],\n",
       "       [231.11288],\n",
       "       [233.58   ],\n",
       "       [237.33635],\n",
       "       [238.41203],\n",
       "       [235.21725],\n",
       "       [233.24692],\n",
       "       [235.84695],\n",
       "       [234.06535],\n",
       "       [238.54276],\n",
       "       [243.98547],\n",
       "       [249.1239 ],\n",
       "       [255.01144],\n",
       "       [254.8594 ],\n",
       "       [251.97736],\n",
       "       [250.65202],\n",
       "       [249.24132],\n",
       "       [249.7467 ],\n",
       "       [248.12752],\n",
       "       [244.36577],\n",
       "       [242.99207],\n",
       "       [243.71526],\n",
       "       [242.98181],\n",
       "       [233.09895],\n",
       "       [222.39429],\n",
       "       [218.74078],\n",
       "       [217.58038],\n",
       "       [218.1483 ],\n",
       "       [221.16893],\n",
       "       [223.94543],\n",
       "       [221.93912],\n",
       "       [219.70557],\n",
       "       [218.9288 ],\n",
       "       [220.15417],\n",
       "       [222.95087],\n",
       "       [224.7927 ],\n",
       "       [224.88069],\n",
       "       [224.58298],\n",
       "       [221.14005],\n",
       "       [217.45891],\n",
       "       [212.81099],\n",
       "       [210.3489 ],\n",
       "       [207.96585],\n",
       "       [205.13225],\n",
       "       [203.72505],\n",
       "       [203.9466 ],\n",
       "       [202.0915 ],\n",
       "       [199.38362],\n",
       "       [196.10602],\n",
       "       [194.53851],\n",
       "       [213.8068 ],\n",
       "       [225.43639],\n",
       "       [228.5395 ],\n",
       "       [225.48654],\n",
       "       [221.89722],\n",
       "       [219.38551],\n",
       "       [216.39632],\n",
       "       [213.23958],\n",
       "       [213.94437],\n",
       "       [221.26045],\n",
       "       [225.94862],\n",
       "       [227.23605],\n",
       "       [217.98793],\n",
       "       [213.25038],\n",
       "       [211.67747],\n",
       "       [210.5702 ],\n",
       "       [215.49153],\n",
       "       [216.83931],\n",
       "       [223.50566],\n",
       "       [230.35327],\n",
       "       [228.58618],\n",
       "       [222.57164],\n",
       "       [230.47522],\n",
       "       [240.09703],\n",
       "       [240.27455],\n",
       "       [230.0398 ],\n",
       "       [226.34361],\n",
       "       [225.90726],\n",
       "       [224.19608],\n",
       "       [230.0697 ],\n",
       "       [235.90425],\n",
       "       [239.47733],\n",
       "       [246.10411],\n",
       "       [249.85806],\n",
       "       [252.83195],\n",
       "       [252.98488],\n",
       "       [249.4066 ],\n",
       "       [247.34729],\n",
       "       [253.38678],\n",
       "       [251.4689 ],\n",
       "       [250.20854],\n",
       "       [254.31905],\n",
       "       [262.77228],\n",
       "       [267.84937],\n",
       "       [269.57303],\n",
       "       [271.18387],\n",
       "       [260.46442],\n",
       "       [261.00058],\n",
       "       [269.50458],\n",
       "       [270.56595],\n",
       "       [256.8448 ],\n",
       "       [232.82118],\n",
       "       [224.7109 ],\n",
       "       [225.6737 ],\n",
       "       [216.61026],\n",
       "       [218.66075],\n",
       "       [215.20389],\n",
       "       [212.7634 ],\n",
       "       [211.36456],\n",
       "       [212.72044],\n",
       "       [209.48149],\n",
       "       [201.17563],\n",
       "       [193.42238],\n",
       "       [190.4715 ],\n",
       "       [192.73935],\n",
       "       [194.3086 ],\n",
       "       [194.84512],\n",
       "       [195.00676],\n",
       "       [191.04463],\n",
       "       [189.06839],\n",
       "       [186.72757],\n",
       "       [188.83716],\n",
       "       [192.2916 ],\n",
       "       [192.57571],\n",
       "       [189.13818],\n",
       "       [184.76984],\n",
       "       [180.84138],\n",
       "       [179.42168],\n",
       "       [168.46245],\n",
       "       [157.9577 ],\n",
       "       [157.8012 ],\n",
       "       [161.51822],\n",
       "       [163.55511],\n",
       "       [162.94818],\n",
       "       [162.27997],\n",
       "       [162.79298],\n",
       "       [163.11465],\n",
       "       [164.09425],\n",
       "       [164.70003],\n",
       "       [165.77647],\n",
       "       [167.57678],\n",
       "       [164.97461],\n",
       "       [158.92778],\n",
       "       [155.13347],\n",
       "       [155.2081 ],\n",
       "       [160.35594],\n",
       "       [162.83826],\n",
       "       [162.04526],\n",
       "       [160.98654],\n",
       "       [157.52959],\n",
       "       [154.01822],\n",
       "       [153.07133],\n",
       "       [151.94458],\n",
       "       [151.70924],\n",
       "       [152.43279],\n",
       "       [153.76776],\n",
       "       [152.28293],\n",
       "       [142.25671],\n",
       "       [139.43495],\n",
       "       [136.70067],\n",
       "       [133.03651],\n",
       "       [133.46672],\n",
       "       [133.62355],\n",
       "       [134.34557],\n",
       "       [135.43279],\n",
       "       [135.2776 ],\n",
       "       [138.73302],\n",
       "       [145.75194],\n",
       "       [150.11697],\n",
       "       [152.1036 ],\n",
       "       [153.24684],\n",
       "       [154.44673],\n",
       "       [150.89034],\n",
       "       [152.1905 ],\n",
       "       [161.1308 ],\n",
       "       [183.80235],\n",
       "       [186.09763],\n",
       "       [178.80461],\n",
       "       [171.48842],\n",
       "       [171.9528 ],\n",
       "       [174.44772],\n",
       "       [177.8735 ],\n",
       "       [183.19844],\n",
       "       [183.01534],\n",
       "       [180.58994],\n",
       "       [182.66942],\n",
       "       [188.92682],\n",
       "       [195.61832],\n",
       "       [197.09178],\n",
       "       [197.64113],\n",
       "       [197.80223],\n",
       "       [192.34735],\n",
       "       [188.99025],\n",
       "       [186.30817],\n",
       "       [184.87372],\n",
       "       [190.60051],\n",
       "       [195.5726 ],\n",
       "       [193.96863],\n",
       "       [189.3892 ],\n",
       "       [195.51326],\n",
       "       [204.88242],\n",
       "       [206.02362],\n",
       "       [203.95604],\n",
       "       [201.66046],\n",
       "       [198.43234],\n",
       "       [194.74342],\n",
       "       [195.31883],\n",
       "       [194.84691],\n",
       "       [189.77075],\n",
       "       [182.23985],\n",
       "       [179.02275],\n",
       "       [179.88568],\n",
       "       [178.56003],\n",
       "       [178.23424],\n",
       "       [178.62285],\n",
       "       [178.03891],\n",
       "       [176.24083],\n",
       "       [179.7125 ],\n",
       "       [182.9765 ],\n",
       "       [184.02089],\n",
       "       [184.66504],\n",
       "       [182.1283 ],\n",
       "       [179.04248],\n",
       "       [179.89415],\n",
       "       [178.42276],\n",
       "       [177.80081],\n",
       "       [173.97537],\n",
       "       [167.97139],\n",
       "       [162.81674],\n",
       "       [161.4748 ],\n",
       "       [158.26096]], dtype=float32)"
      ]
     },
     "execution_count": 27,
     "metadata": {},
     "output_type": "execute_result"
    }
   ],
   "source": [
    "scaled_pred = model.predict(X_test)\n",
    "actual_pred = scaler.inverse_transform(scaled_pred)\n",
    "actual_pred"
   ]
  },
  {
   "cell_type": "markdown",
   "metadata": {},
   "source": [
    "Now, let us test the accuracy of the model using visualisation by plotting the actual value and predicted test values."
   ]
  },
  {
   "cell_type": "code",
   "execution_count": 28,
   "metadata": {},
   "outputs": [
    {
     "data": {
      "text/plain": [
       "<matplotlib.axes._subplots.AxesSubplot at 0x7faf102f2d68>"
      ]
     },
     "execution_count": 28,
     "metadata": {},
     "output_type": "execute_result"
    },
    {
     "data": {
      "image/png": "[encoded data removed]",
      "text/plain": [
       "<Figure size 432x288 with 1 Axes>"
      ]
     },
     "metadata": {
      "needs_background": "light"
     },
     "output_type": "display_data"
    }
   ],
   "source": [
    "df['avg'].iloc[-len(X_test):].plot()"
   ]
  },
  {
   "cell_type": "code",
   "execution_count": 29,
   "metadata": {},
   "outputs": [
    {
     "data": {
      "text/plain": [
       "<matplotlib.axes._subplots.AxesSubplot at 0x7faf10290eb8>"
      ]
     },
     "execution_count": 29,
     "metadata": {},
     "output_type": "execute_result"
    },
    {
     "data": {
      "image/png": "[encoded data removed]",
      "text/plain": [
       "<Figure size 432x288 with 1 Axes>"
      ]
     },
     "metadata": {
      "needs_background": "light"
     },
     "output_type": "display_data"
    }
   ],
   "source": [
    "date_index = df.index\n",
    "df_pred = pd.DataFrame(actual_pred, columns = ['avg'], index = date_index[-len(X_test):])\n",
    "df_pred.plot()"
   ]
  },
  {
   "cell_type": "markdown",
   "metadata": {},
   "source": [
    "Plotting both the graphs on same axes, we have:"
   ]
  },
  {
   "cell_type": "code",
   "execution_count": 30,
   "metadata": {},
   "outputs": [
    {
     "data": {
      "text/plain": [
       "[<matplotlib.lines.Line2D at 0x7faf101dab38>]"
      ]
     },
     "execution_count": 30,
     "metadata": {},
     "output_type": "execute_result"
    },
    {
     "data": {
      "image/png": "[encoded data removed]",
      "text/plain": [
       "<Figure size 432x288 with 1 Axes>"
      ]
     },
     "metadata": {
      "needs_background": "light"
     },
     "output_type": "display_data"
    }
   ],
   "source": [
    "plt.plot(df['avg'].iloc[-len(X_test):], 'b')\n",
    "plt.plot(df_pred, 'r')"
   ]
  },
  {
   "cell_type": "markdown",
   "metadata": {},
   "source": [
    "Hence, the predictions obtained are pretty close to the actual values of the plot. Therefore the model accuracy is decent."
   ]
  }
 ],
 "metadata": {
  "kernelspec": {
   "display_name": "Python 3",
   "language": "python",
   "name": "python3"
  },
  "language_info": {
   "codemirror_mode": {
    "name": "ipython",
    "version": 3
   },
   "file_extension": ".py",
   "mimetype": "text/x-python",
   "name": "python",
   "nbconvert_exporter": "python",
   "pygments_lexer": "ipython3",
   "version": "3.6.8"
  }
 },
 "nbformat": 4,
 "nbformat_minor": 2
}
